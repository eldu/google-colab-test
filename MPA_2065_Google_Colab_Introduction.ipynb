{
  "nbformat": 4,
  "nbformat_minor": 0,
  "metadata": {
    "colab": {
      "provenance": [],
      "authorship_tag": "ABX9TyMBczJRs8Tda7jB/hYzn/r4",
      "include_colab_link": true
    },
    "kernelspec": {
      "name": "ir",
      "display_name": "R"
    },
    "language_info": {
      "name": "R"
    }
  },
  "cells": [
    {
      "cell_type": "markdown",
      "metadata": {
        "id": "view-in-github",
        "colab_type": "text"
      },
      "source": [
        "<a href=\"https://colab.research.google.com/github/eldu/google-colab-test/blob/main/MPA_2065_Google_Colab_Introduction.ipynb\" target=\"_parent\"><img src=\"https://colab.research.google.com/assets/colab-badge.svg\" alt=\"Open In Colab\"/></a>"
      ]
    },
    {
      "cell_type": "markdown",
      "source": [
        "## Google Colab\n",
        "\n",
        "Google Colab is a hosted Jupyter Notebook service (like JupyterHub) that requires no setup to use and providence free access to computing, resources, including GPUS.\n",
        "\n",
        "These colab notebooks allows you to combine executable code and rich text in a single document\n",
        "\n"
      ],
      "metadata": {
        "id": "20riDqxfTRye"
      }
    },
    {
      "cell_type": "markdown",
      "source": [
        "## Official Documentation\n",
        "[Getting Started](https://colab.research.google.com/?utm_source=scs-index#scrollTo=GJBs_flRovLc)"
      ],
      "metadata": {
        "id": "ZZx7LIO0eoHT"
      }
    },
    {
      "cell_type": "markdown",
      "source": [
        "## Setup\n",
        "\n",
        "Change your document to use the `R` kernal.\n",
        "\n",
        "You'll only need to do this once\n",
        "\n",
        "```\n",
        "Runtime > Change Runtime Type > Set Runtime Type to \"R\"\n",
        "```"
      ],
      "metadata": {
        "id": "BStYGvjFdoq2"
      }
    },
    {
      "cell_type": "markdown",
      "source": [],
      "metadata": {
        "id": "HGakV09DfESQ"
      }
    },
    {
      "cell_type": "code",
      "source": [
        "# Import Libraries\n",
        "library(dplyr)\n",
        "library(ggplot2)\n",
        "library(stringr)\n",
        "library(lubridate)"
      ],
      "metadata": {
        "colab": {
          "base_uri": "https://localhost:8080/"
        },
        "id": "L3WsmkwST2b3",
        "outputId": "c6e1f21f-5baa-4fe1-c878-c0fc4ea2e924"
      },
      "execution_count": null,
      "outputs": [
        {
          "output_type": "stream",
          "name": "stderr",
          "text": [
            "\n",
            "Attaching package: ‘dplyr’\n",
            "\n",
            "\n",
            "The following objects are masked from ‘package:stats’:\n",
            "\n",
            "    filter, lag\n",
            "\n",
            "\n",
            "The following objects are masked from ‘package:base’:\n",
            "\n",
            "    intersect, setdiff, setequal, union\n",
            "\n",
            "\n"
          ]
        }
      ]
    }
  ]
}