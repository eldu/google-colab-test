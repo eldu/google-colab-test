{
  "nbformat": 4,
  "nbformat_minor": 0,
  "metadata": {
    "colab": {
      "provenance": [],
      "authorship_tag": "ABX9TyPejTS71Mumsbk70OVO0FR1",
      "include_colab_link": true
    },
    "kernelspec": {
      "name": "ir",
      "display_name": "R"
    },
    "language_info": {
      "name": "R"
    }
  },
  "cells": [
    {
      "cell_type": "markdown",
      "metadata": {
        "id": "view-in-github",
        "colab_type": "text"
      },
      "source": [
        "<a href=\"https://colab.research.google.com/github/eldu/google-colab-test/blob/main/MPA_2065_Google_Colab_Introduction.ipynb\" target=\"_parent\"><img src=\"https://colab.research.google.com/assets/colab-badge.svg\" alt=\"Open In Colab\"/></a>"
      ]
    },
    {
      "cell_type": "markdown",
      "source": [
        "## Google Colab\n",
        "\n",
        "Google Colab is a hosted Jupyter Notebook service (like JupyterHub) that requires no setup to use and providence free access to computing, resources, including GPUS.\n",
        "\n",
        "These colab notebooks allows you to combine executable code and rich text in a single document\n",
        "\n"
      ],
      "metadata": {
        "id": "20riDqxfTRye"
      }
    },
    {
      "cell_type": "markdown",
      "source": [
        "## Official Documentation\n",
        "[Getting Started](https://colab.research.google.com/?utm_source=scs-index#scrollTo=GJBs_flRovLc)"
      ],
      "metadata": {
        "id": "ZZx7LIO0eoHT"
      }
    },
    {
      "cell_type": "markdown",
      "source": [
        "## Setup\n",
        "\n",
        "Change your document to use the `R` kernal.\n",
        "\n",
        "You'll only need to do this once\n",
        "\n",
        "```\n",
        "Runtime > Change Runtime Type > Set Runtime Type to \"R\"\n",
        "```"
      ],
      "metadata": {
        "id": "BStYGvjFdoq2"
      }
    },
    {
      "cell_type": "markdown",
      "source": [],
      "metadata": {
        "id": "HGakV09DfESQ"
      }
    },
    {
      "cell_type": "code",
      "source": [
        "# Import Libraries\n",
        "library(dplyr)\n",
        "library(ggplot2)\n",
        "library(stringr)\n",
        "library(lubridate)"
      ],
      "metadata": {
        "colab": {
          "base_uri": "https://localhost:8080/"
        },
        "id": "L3WsmkwST2b3",
        "outputId": "c6e1f21f-5baa-4fe1-c878-c0fc4ea2e924"
      },
      "execution_count": null,
      "outputs": [
        {
          "output_type": "stream",
          "name": "stderr",
          "text": [
            "\n",
            "Attaching package: ‘dplyr’\n",
            "\n",
            "\n",
            "The following objects are masked from ‘package:stats’:\n",
            "\n",
            "    filter, lag\n",
            "\n",
            "\n",
            "The following objects are masked from ‘package:base’:\n",
            "\n",
            "    intersect, setdiff, setequal, union\n",
            "\n",
            "\n"
          ]
        }
      ]
    },
    {
      "cell_type": "code",
      "source": [
        "df <- read.csv(\"data/pvd_arrests_2021-10-03.csv\")\n",
        "head(df)"
      ],
      "metadata": {
        "colab": {
          "base_uri": "https://localhost:8080/",
          "height": 532
        },
        "id": "r_JDigOsnWjg",
        "outputId": "6e1415e0-3dfb-4237-f086-cf8628911e44"
      },
      "execution_count": 3,
      "outputs": [
        {
          "output_type": "display_data",
          "data": {
            "text/html": [
              "<table class=\"dataframe\">\n",
              "<caption>A data.frame: 6 × 18</caption>\n",
              "<thead>\n",
              "\t<tr><th></th><th scope=col>arrest_date</th><th scope=col>year</th><th scope=col>month</th><th scope=col>gender</th><th scope=col>race</th><th scope=col>ethnicity</th><th scope=col>year_of_birth</th><th scope=col>age</th><th scope=col>from_address</th><th scope=col>from_city</th><th scope=col>from_state</th><th scope=col>statute_type</th><th scope=col>statute_code</th><th scope=col>statute_desc</th><th scope=col>counts</th><th scope=col>case_number</th><th scope=col>arresting_officers</th><th scope=col>id</th></tr>\n",
              "\t<tr><th></th><th scope=col>&lt;chr&gt;</th><th scope=col>&lt;int&gt;</th><th scope=col>&lt;int&gt;</th><th scope=col>&lt;chr&gt;</th><th scope=col>&lt;chr&gt;</th><th scope=col>&lt;chr&gt;</th><th scope=col>&lt;int&gt;</th><th scope=col>&lt;int&gt;</th><th scope=col>&lt;chr&gt;</th><th scope=col>&lt;chr&gt;</th><th scope=col>&lt;chr&gt;</th><th scope=col>&lt;chr&gt;</th><th scope=col>&lt;chr&gt;</th><th scope=col>&lt;chr&gt;</th><th scope=col>&lt;int&gt;</th><th scope=col>&lt;chr&gt;</th><th scope=col>&lt;chr&gt;</th><th scope=col>&lt;chr&gt;</th></tr>\n",
              "</thead>\n",
              "<tbody>\n",
              "\t<tr><th scope=row>1</th><td>2019-08-24T02:23:00.0</td><td>2019</td><td>8</td><td>Male  </td><td>White</td><td>NonHispanic</td><td>1981</td><td>37</td><td>No Permanent Address</td><td>providence</td><td>Rhode Island</td><td>                    </td><td>        </td><td>                                                         </td><td>NA</td><td>2019-00084142</td><td> YGonzalez, LTaveras    </td><td>pvd2218242150382148273 </td></tr>\n",
              "\t<tr><th scope=row>2</th><td>2019-08-24T02:02:00.0</td><td>2019</td><td>8</td><td>      </td><td>     </td><td>           </td><td>1994</td><td>25</td><td>SUMMER AVE          </td><td>Cranston  </td><td>Rhode Island</td><td>RI Statute Violation</td><td>31-11-18</td><td>Driving after Denial, Suspension or Revocation of License</td><td> 1</td><td>2019-00084127</td><td> NManfredi              </td><td>pvd15166785558364246202</td></tr>\n",
              "\t<tr><th scope=row>3</th><td>2019-08-24T02:02:00.0</td><td>2019</td><td>8</td><td>Female</td><td>Black</td><td>NonHispanic</td><td>1984</td><td>34</td><td>DOUGLAS AVE         </td><td>Providence</td><td>Rhode Island</td><td>RI Statute Violation</td><td>12-7-10 </td><td>RESISTING LEGAL OR ILLEGAL ARREST                        </td><td> 1</td><td>2019-00084126</td><td> MPlace, JPerez, ASantos</td><td>pvd3142917706201385905 </td></tr>\n",
              "\t<tr><th scope=row>4</th><td>2019-08-24T02:02:00.0</td><td>2019</td><td>8</td><td>Female</td><td>Black</td><td>NonHispanic</td><td>1984</td><td>34</td><td>DOUGLAS AVE         </td><td>Providence</td><td>Rhode Island</td><td>RI Statute Violation</td><td>11-45-1 </td><td>DISORDERLY CONDUCT                                       </td><td> 1</td><td>2019-00084126</td><td> MPlace, JPerez, ASantos</td><td>pvd3142917706201385905 </td></tr>\n",
              "\t<tr><th scope=row>5</th><td>2019-08-24T02:02:00.0</td><td>2019</td><td>8</td><td>Female</td><td>Black</td><td>Unknown    </td><td>2001</td><td>18</td><td>TRASH ST            </td><td>          </td><td>            </td><td>RI Statute Violation</td><td>12-7-10 </td><td>RESISTING LEGAL OR ILLEGAL ARREST                        </td><td> 1</td><td>2019-00084126</td><td> MPlace, JPerez, ASantos</td><td>pvd460449304532374599  </td></tr>\n",
              "\t<tr><th scope=row>6</th><td>2019-08-24T02:02:00.0</td><td>2019</td><td>8</td><td>Female</td><td>Black</td><td>Unknown    </td><td>2001</td><td>18</td><td>TRASH ST            </td><td>          </td><td>            </td><td>RI Statute Violation</td><td>11-45-1 </td><td>DISORDERLY CONDUCT                                       </td><td> 1</td><td>2019-00084126</td><td> MPlace, JPerez, ASantos</td><td>pvd460449304532374599  </td></tr>\n",
              "</tbody>\n",
              "</table>\n"
            ],
            "text/markdown": "\nA data.frame: 6 × 18\n\n| <!--/--> | arrest_date &lt;chr&gt; | year &lt;int&gt; | month &lt;int&gt; | gender &lt;chr&gt; | race &lt;chr&gt; | ethnicity &lt;chr&gt; | year_of_birth &lt;int&gt; | age &lt;int&gt; | from_address &lt;chr&gt; | from_city &lt;chr&gt; | from_state &lt;chr&gt; | statute_type &lt;chr&gt; | statute_code &lt;chr&gt; | statute_desc &lt;chr&gt; | counts &lt;int&gt; | case_number &lt;chr&gt; | arresting_officers &lt;chr&gt; | id &lt;chr&gt; |\n|---|---|---|---|---|---|---|---|---|---|---|---|---|---|---|---|---|---|---|\n| 1 | 2019-08-24T02:23:00.0 | 2019 | 8 | Male   | White | NonHispanic | 1981 | 37 | No Permanent Address | providence | Rhode Island | <!----> | <!----> | <!----> | NA | 2019-00084142 |  YGonzalez, LTaveras     | pvd2218242150382148273  |\n| 2 | 2019-08-24T02:02:00.0 | 2019 | 8 | <!----> | <!----> | <!----> | 1994 | 25 | SUMMER AVE           | Cranston   | Rhode Island | RI Statute Violation | 31-11-18 | Driving after Denial, Suspension or Revocation of License |  1 | 2019-00084127 |  NManfredi               | pvd15166785558364246202 |\n| 3 | 2019-08-24T02:02:00.0 | 2019 | 8 | Female | Black | NonHispanic | 1984 | 34 | DOUGLAS AVE          | Providence | Rhode Island | RI Statute Violation | 12-7-10  | RESISTING LEGAL OR ILLEGAL ARREST                         |  1 | 2019-00084126 |  MPlace, JPerez, ASantos | pvd3142917706201385905  |\n| 4 | 2019-08-24T02:02:00.0 | 2019 | 8 | Female | Black | NonHispanic | 1984 | 34 | DOUGLAS AVE          | Providence | Rhode Island | RI Statute Violation | 11-45-1  | DISORDERLY CONDUCT                                        |  1 | 2019-00084126 |  MPlace, JPerez, ASantos | pvd3142917706201385905  |\n| 5 | 2019-08-24T02:02:00.0 | 2019 | 8 | Female | Black | Unknown     | 2001 | 18 | TRASH ST             | <!----> | <!----> | RI Statute Violation | 12-7-10  | RESISTING LEGAL OR ILLEGAL ARREST                         |  1 | 2019-00084126 |  MPlace, JPerez, ASantos | pvd460449304532374599   |\n| 6 | 2019-08-24T02:02:00.0 | 2019 | 8 | Female | Black | Unknown     | 2001 | 18 | TRASH ST             | <!----> | <!----> | RI Statute Violation | 11-45-1  | DISORDERLY CONDUCT                                        |  1 | 2019-00084126 |  MPlace, JPerez, ASantos | pvd460449304532374599   |\n\n",
            "text/latex": "A data.frame: 6 × 18\n\\begin{tabular}{r|llllllllllllllllll}\n  & arrest\\_date & year & month & gender & race & ethnicity & year\\_of\\_birth & age & from\\_address & from\\_city & from\\_state & statute\\_type & statute\\_code & statute\\_desc & counts & case\\_number & arresting\\_officers & id\\\\\n  & <chr> & <int> & <int> & <chr> & <chr> & <chr> & <int> & <int> & <chr> & <chr> & <chr> & <chr> & <chr> & <chr> & <int> & <chr> & <chr> & <chr>\\\\\n\\hline\n\t1 & 2019-08-24T02:23:00.0 & 2019 & 8 & Male   & White & NonHispanic & 1981 & 37 & No Permanent Address & providence & Rhode Island &                      &          &                                                           & NA & 2019-00084142 &  YGonzalez, LTaveras     & pvd2218242150382148273 \\\\\n\t2 & 2019-08-24T02:02:00.0 & 2019 & 8 &        &       &             & 1994 & 25 & SUMMER AVE           & Cranston   & Rhode Island & RI Statute Violation & 31-11-18 & Driving after Denial, Suspension or Revocation of License &  1 & 2019-00084127 &  NManfredi               & pvd15166785558364246202\\\\\n\t3 & 2019-08-24T02:02:00.0 & 2019 & 8 & Female & Black & NonHispanic & 1984 & 34 & DOUGLAS AVE          & Providence & Rhode Island & RI Statute Violation & 12-7-10  & RESISTING LEGAL OR ILLEGAL ARREST                         &  1 & 2019-00084126 &  MPlace, JPerez, ASantos & pvd3142917706201385905 \\\\\n\t4 & 2019-08-24T02:02:00.0 & 2019 & 8 & Female & Black & NonHispanic & 1984 & 34 & DOUGLAS AVE          & Providence & Rhode Island & RI Statute Violation & 11-45-1  & DISORDERLY CONDUCT                                        &  1 & 2019-00084126 &  MPlace, JPerez, ASantos & pvd3142917706201385905 \\\\\n\t5 & 2019-08-24T02:02:00.0 & 2019 & 8 & Female & Black & Unknown     & 2001 & 18 & TRASH ST             &            &              & RI Statute Violation & 12-7-10  & RESISTING LEGAL OR ILLEGAL ARREST                         &  1 & 2019-00084126 &  MPlace, JPerez, ASantos & pvd460449304532374599  \\\\\n\t6 & 2019-08-24T02:02:00.0 & 2019 & 8 & Female & Black & Unknown     & 2001 & 18 & TRASH ST             &            &              & RI Statute Violation & 11-45-1  & DISORDERLY CONDUCT                                        &  1 & 2019-00084126 &  MPlace, JPerez, ASantos & pvd460449304532374599  \\\\\n\\end{tabular}\n",
            "text/plain": [
              "  arrest_date           year month gender race  ethnicity   year_of_birth age\n",
              "1 2019-08-24T02:23:00.0 2019 8     Male   White NonHispanic 1981          37 \n",
              "2 2019-08-24T02:02:00.0 2019 8                              1994          25 \n",
              "3 2019-08-24T02:02:00.0 2019 8     Female Black NonHispanic 1984          34 \n",
              "4 2019-08-24T02:02:00.0 2019 8     Female Black NonHispanic 1984          34 \n",
              "5 2019-08-24T02:02:00.0 2019 8     Female Black Unknown     2001          18 \n",
              "6 2019-08-24T02:02:00.0 2019 8     Female Black Unknown     2001          18 \n",
              "  from_address         from_city  from_state   statute_type        \n",
              "1 No Permanent Address providence Rhode Island                     \n",
              "2 SUMMER AVE           Cranston   Rhode Island RI Statute Violation\n",
              "3 DOUGLAS AVE          Providence Rhode Island RI Statute Violation\n",
              "4 DOUGLAS AVE          Providence Rhode Island RI Statute Violation\n",
              "5 TRASH ST                                     RI Statute Violation\n",
              "6 TRASH ST                                     RI Statute Violation\n",
              "  statute_code statute_desc                                              counts\n",
              "1                                                                        NA    \n",
              "2 31-11-18     Driving after Denial, Suspension or Revocation of License  1    \n",
              "3 12-7-10      RESISTING LEGAL OR ILLEGAL ARREST                          1    \n",
              "4 11-45-1      DISORDERLY CONDUCT                                         1    \n",
              "5 12-7-10      RESISTING LEGAL OR ILLEGAL ARREST                          1    \n",
              "6 11-45-1      DISORDERLY CONDUCT                                         1    \n",
              "  case_number   arresting_officers       id                     \n",
              "1 2019-00084142  YGonzalez, LTaveras     pvd2218242150382148273 \n",
              "2 2019-00084127  NManfredi               pvd15166785558364246202\n",
              "3 2019-00084126  MPlace, JPerez, ASantos pvd3142917706201385905 \n",
              "4 2019-00084126  MPlace, JPerez, ASantos pvd3142917706201385905 \n",
              "5 2019-00084126  MPlace, JPerez, ASantos pvd460449304532374599  \n",
              "6 2019-00084126  MPlace, JPerez, ASantos pvd460449304532374599  "
            ]
          },
          "metadata": {}
        }
      ]
    },
    {
      "cell_type": "code",
      "source": [],
      "metadata": {
        "id": "s3ziEPVOnhHj"
      },
      "execution_count": null,
      "outputs": []
    }
  ]
}